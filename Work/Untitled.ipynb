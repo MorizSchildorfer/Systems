{
 "cells": [
  {
   "cell_type": "code",
   "execution_count": 1,
   "metadata": {},
   "outputs": [],
   "source": [
    "import pandas as pd"
   ]
  },
  {
   "cell_type": "code",
   "execution_count": 2,
   "metadata": {},
   "outputs": [],
   "source": [
    "data = pd.read_csv(\"compress_data.csv\")\n"
   ]
  },
  {
   "cell_type": "code",
   "execution_count": 3,
   "metadata": {},
   "outputs": [],
   "source": [
    "data[\"SDC\"] = (data[\"SDC\"]/data[\"FI Runs\"])*100"
   ]
  },
  {
   "cell_type": "code",
   "execution_count": 4,
   "metadata": {},
   "outputs": [],
   "source": [
    "data[\"Crash\"] = (data[\"Crash\"]/data[\"FI Runs\"])*100"
   ]
  },
  {
   "cell_type": "code",
   "execution_count": 5,
   "metadata": {},
   "outputs": [],
   "source": [
    "data[\"Benign\"] = (data[\"Benign\"]/data[\"FI Runs\"])*100"
   ]
  },
  {
   "cell_type": "code",
   "execution_count": 6,
   "metadata": {},
   "outputs": [
    {
     "name": "stdout",
     "output_type": "stream",
     "text": [
      "\\begin{tabular}{lllrrr}\n",
      "\\toprule\n",
      "{} &  Algorithm & Implementation &     SDC &   Crash &  Benign \\\\\n",
      "\\midrule\n",
      "0 &      Quick &      Recursive &  39.714 &  37.386 &  22.900 \\\\\n",
      "1 &      Quick &      Iterative &  38.624 &  38.748 &  22.628 \\\\\n",
      "2 &  Insertion &      Recursive &  32.092 &  49.532 &  18.376 \\\\\n",
      "3 &  Insertion &      Iterative &  32.408 &  49.524 &  18.068 \\\\\n",
      "4 &      Merge &      Recursive &  39.980 &  40.104 &  19.912 \\\\\n",
      "5 &      Merge &      Iterative &  40.202 &  39.164 &  20.634 \\\\\n",
      "6 &     Bubble &      Recursive &  15.816 &  42.184 &  42.000 \\\\\n",
      "7 &     Bubble &      Iterative &  16.228 &  39.088 &  44.684 \\\\\n",
      "\\bottomrule\n",
      "\\end{tabular}\n",
      "\n"
     ]
    }
   ],
   "source": [
    "print(data.iloc[:,:5].to_latex())"
   ]
  },
  {
   "cell_type": "code",
   "execution_count": 7,
   "metadata": {},
   "outputs": [
    {
     "name": "stdout",
     "output_type": "stream",
     "text": [
      "\\begin{tabular}{lllrrrrr}\n",
      "\\toprule\n",
      "{} &  Algorithm & Implementation &     SDC &   Crash &  Benign &  Hang &  FI Runs \\\\\n",
      "\\midrule\n",
      "0 &      Quick &      Recursive &  39.714 &  37.386 &  22.900 &     0 &      500 \\\\\n",
      "1 &      Quick &      Iterative &  38.624 &  38.748 &  22.628 &     0 &      500 \\\\\n",
      "2 &  Insertion &      Recursive &  32.092 &  49.532 &  18.376 &     0 &      500 \\\\\n",
      "3 &  Insertion &      Iterative &  32.408 &  49.524 &  18.068 &     0 &      500 \\\\\n",
      "4 &      Merge &      Recursive &  39.980 &  40.104 &  19.912 &     0 &      500 \\\\\n",
      "5 &      Merge &      Iterative &  40.202 &  39.164 &  20.634 &     0 &      500 \\\\\n",
      "6 &     Bubble &      Recursive &  15.816 &  42.184 &  42.000 &     0 &      500 \\\\\n",
      "7 &     Bubble &      Iterative &  16.228 &  39.088 &  44.684 &     0 &      500 \\\\\n",
      "\\bottomrule\n",
      "\\end{tabular}\n",
      "\n"
     ]
    }
   ],
   "source": [
    "print(data.to_latex())"
   ]
  },
  {
   "cell_type": "code",
   "execution_count": 8,
   "metadata": {},
   "outputs": [
    {
     "name": "stdout",
     "output_type": "stream",
     "text": [
      "\\begin{tabular}{lllrrr}\n",
      "\\toprule\n",
      "{} &  Algorithm & Implementation &     SDC &   Crash &  Benign \\\\\n",
      "\\midrule\n",
      "0 &      Quick &      Recursive &  39.714 &  37.386 &  22.900 \\\\\n",
      "1 &      Quick &      Iterative &  38.624 &  38.748 &  22.628 \\\\\n",
      "2 &  Insertion &      Recursive &  32.092 &  49.532 &  18.376 \\\\\n",
      "3 &  Insertion &      Iterative &  32.408 &  49.524 &  18.068 \\\\\n",
      "4 &      Merge &      Recursive &  39.980 &  40.104 &  19.912 \\\\\n",
      "5 &      Merge &      Iterative &  40.202 &  39.164 &  20.634 \\\\\n",
      "6 &     Bubble &      Recursive &  15.816 &  42.184 &  42.000 \\\\\n",
      "7 &     Bubble &      Iterative &  16.228 &  39.088 &  44.684 \\\\\n",
      "\\bottomrule\n",
      "\\end{tabular}\n",
      "\n"
     ]
    }
   ],
   "source": [
    "print(data.iloc[:,:5].to_latex())"
   ]
  },
  {
   "cell_type": "code",
   "execution_count": 9,
   "metadata": {},
   "outputs": [],
   "source": [
    "x = data.where(data[\"FI Runs\"] == 500)\n",
    "x = x.dropna()"
   ]
  },
  {
   "cell_type": "code",
   "execution_count": 10,
   "metadata": {},
   "outputs": [],
   "source": [
    "quick = x.where(data[\"Algorithm\"] == \"Quick\").dropna()\n",
    "insert = x.where(data[\"Algorithm\"] == \"Insertion\").dropna()\n",
    "bubble = x.where(data[\"Algorithm\"] == \"Bubble\").dropna()\n",
    "merge = x.where(data[\"Algorithm\"] == \"Merge\").dropna()"
   ]
  },
  {
   "cell_type": "code",
   "execution_count": 11,
   "metadata": {},
   "outputs": [
    {
     "data": {
      "text/plain": [
       "<AxesSubplot:title={'center':'Quick'}, xlabel='Implementation'>"
      ]
     },
     "execution_count": 11,
     "metadata": {},
     "output_type": "execute_result"
    }
   ],
   "source": [
    "quick.plot.bar(x =\"Implementation\", y=[\"SDC\",\"Crash\",\"Benign\"], title=\"Quick\")"
   ]
  },
  {
   "cell_type": "code",
   "execution_count": 12,
   "metadata": {},
   "outputs": [
    {
     "data": {
      "text/plain": [
       "<AxesSubplot:title={'center':'Insertion'}, xlabel='Implementation'>"
      ]
     },
     "execution_count": 12,
     "metadata": {},
     "output_type": "execute_result"
    },
    {
     "data": {
      "image/png": "[encoded data removed]",
      "text/plain": [
       "<Figure size 432x288 with 1 Axes>"
      ]
     },
     "metadata": {
      "needs_background": "light"
     },
     "output_type": "display_data"
    }
   ],
   "source": [
    "insert.plot.bar(x =\"Implementation\", y=[\"SDC\",\"Crash\",\"Benign\"], title=\"Insertion\")"
   ]
  },
  {
   "cell_type": "code",
   "execution_count": 13,
   "metadata": {},
   "outputs": [
    {
     "data": {
      "text/plain": [
       "<AxesSubplot:title={'center':'Merge'}, xlabel='Implementation'>"
      ]
     },
     "execution_count": 13,
     "metadata": {},
     "output_type": "execute_result"
    },
    {
     "data": {
      "image/png": "[encoded data removed]",
      "text/plain": [
       "<Figure size 432x288 with 1 Axes>"
      ]
     },
     "metadata": {
      "needs_background": "light"
     },
     "output_type": "display_data"
    }
   ],
   "source": [
    "merge.plot.bar(x =\"Implementation\", y=[\"SDC\",\"Crash\",\"Benign\"], title=\"Merge\")"
   ]
  },
  {
   "cell_type": "code",
   "execution_count": 14,
   "metadata": {},
   "outputs": [
    {
     "data": {
      "text/plain": [
       "<AxesSubplot:title={'center':'Bubble'}, xlabel='Implementation'>"
      ]
     },
     "execution_count": 14,
     "metadata": {},
     "output_type": "execute_result"
    },
    {
     "data": {
      "image/png": "[encoded data removed]",
      "text/plain": [
       "<Figure size 432x288 with 1 Axes>"
      ]
     },
     "metadata": {
      "needs_background": "light"
     },
     "output_type": "display_data"
    }
   ],
   "source": [
    "bubble.plot.bar(x =\"Implementation\", y=[\"SDC\",\"Crash\",\"Benign\"], title=\"Bubble\")"
   ]
  },
  {
   "cell_type": "code",
   "execution_count": 15,
   "metadata": {},
   "outputs": [
    {
     "data": {
      "text/plain": [
       "<AxesSubplot:xlabel='Algorithm'>"
      ]
     },
     "execution_count": 15,
     "metadata": {},
     "output_type": "execute_result"
    },
    {
     "data": {
      "image/png": "[encoded data removed]",
      "text/plain": [
       "<Figure size 432x288 with 1 Axes>"
      ]
     },
     "metadata": {
      "needs_background": "light"
     },
     "output_type": "display_data"
    }
   ],
   "source": [
    "x.plot.bar(x =\"Algorithm\", y=\"Crash\")"
   ]
  },
  {
   "cell_type": "code",
   "execution_count": null,
   "metadata": {},
   "outputs": [],
   "source": []
  },
  {
   "cell_type": "code",
   "execution_count": null,
   "metadata": {},
   "outputs": [],
   "source": []
  }
 ],
 "metadata": {
  "kernelspec": {
   "display_name": "Python 3",
   "language": "python",
   "name": "python3"
  },
  "language_info": {
   "codemirror_mode": {
    "name": "ipython",
    "version": 3
   },
   "file_extension": ".py",
   "mimetype": "text/x-python",
   "name": "python",
   "nbconvert_exporter": "python",
   "pygments_lexer": "ipython3",
   "version": "3.7.1"
  }
 },
 "nbformat": 4,
 "nbformat_minor": 5
}
